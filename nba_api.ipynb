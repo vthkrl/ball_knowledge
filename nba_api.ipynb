{
 "cells": [
  {
   "cell_type": "code",
   "execution_count": 6,
   "id": "095c4486-b11b-4da6-a763-5332ea6bdcaa",
   "metadata": {},
   "outputs": [],
   "source": [
    "from nba_api.stats.endpoints import playercareerstats\n",
    "import pandas as pd"
   ]
  },
  {
   "cell_type": "code",
   "execution_count": 24,
   "id": "2fdb12d9-2215-4608-855a-74c05835f39e",
   "metadata": {},
   "outputs": [
    {
     "data": {
      "text/plain": [
       "{'id': 2544,\n",
       " 'full_name': 'LeBron James',\n",
       " 'first_name': 'LeBron',\n",
       " 'last_name': 'James',\n",
       " 'is_active': True}"
      ]
     },
     "execution_count": 24,
     "metadata": {},
     "output_type": "execute_result"
    }
   ],
   "source": [
    "from nba_api.stats.static import players\n",
    "nba_players = players.get_players()\n",
    "lebron = [player for player in nba_players if player['full_name'] == 'LeBron James'][0]\n",
    "lebron"
   ]
  },
  {
   "cell_type": "code",
   "execution_count": 83,
   "id": "657a9380-5eda-4b60-b969-5f35042fa8d9",
   "metadata": {},
   "outputs": [],
   "source": [
    "def ppgBySeason(player_id):\n",
    "    career = playercareerstats.PlayerCareerStats(player_id = player_id)\n",
    "    pts = career.get_data_frames()[0]['PTS']\n",
    "    gp = career.get_data_frames()[0]['GP']\n",
    "    ppg = pts / gp\n",
    "    seasons = career.get_data_frames()[0]['SEASON_ID']\n",
    "    output = pd.DataFrame(ppg).set_index(seasons)\n",
    "    output.columns = ['PPG']\n",
    "    return output"
   ]
  },
  {
   "cell_type": "code",
   "execution_count": 84,
   "id": "260363ac-6a67-40fd-9d23-8d2a8ef2dd19",
   "metadata": {},
   "outputs": [
    {
     "data": {
      "text/html": [
       "<div>\n",
       "<style scoped>\n",
       "    .dataframe tbody tr th:only-of-type {\n",
       "        vertical-align: middle;\n",
       "    }\n",
       "\n",
       "    .dataframe tbody tr th {\n",
       "        vertical-align: top;\n",
       "    }\n",
       "\n",
       "    .dataframe thead th {\n",
       "        text-align: right;\n",
       "    }\n",
       "</style>\n",
       "<table border=\"1\" class=\"dataframe\">\n",
       "  <thead>\n",
       "    <tr style=\"text-align: right;\">\n",
       "      <th></th>\n",
       "      <th>PPG</th>\n",
       "    </tr>\n",
       "    <tr>\n",
       "      <th>SEASON_ID</th>\n",
       "      <th></th>\n",
       "    </tr>\n",
       "  </thead>\n",
       "  <tbody>\n",
       "    <tr>\n",
       "      <th>2003-04</th>\n",
       "      <td>20.936709</td>\n",
       "    </tr>\n",
       "    <tr>\n",
       "      <th>2004-05</th>\n",
       "      <td>27.187500</td>\n",
       "    </tr>\n",
       "    <tr>\n",
       "      <th>2005-06</th>\n",
       "      <td>31.367089</td>\n",
       "    </tr>\n",
       "    <tr>\n",
       "      <th>2006-07</th>\n",
       "      <td>27.333333</td>\n",
       "    </tr>\n",
       "    <tr>\n",
       "      <th>2007-08</th>\n",
       "      <td>30.000000</td>\n",
       "    </tr>\n",
       "    <tr>\n",
       "      <th>2008-09</th>\n",
       "      <td>28.444444</td>\n",
       "    </tr>\n",
       "    <tr>\n",
       "      <th>2009-10</th>\n",
       "      <td>29.710526</td>\n",
       "    </tr>\n",
       "    <tr>\n",
       "      <th>2010-11</th>\n",
       "      <td>26.721519</td>\n",
       "    </tr>\n",
       "    <tr>\n",
       "      <th>2011-12</th>\n",
       "      <td>27.145161</td>\n",
       "    </tr>\n",
       "    <tr>\n",
       "      <th>2012-13</th>\n",
       "      <td>26.789474</td>\n",
       "    </tr>\n",
       "    <tr>\n",
       "      <th>2013-14</th>\n",
       "      <td>27.129870</td>\n",
       "    </tr>\n",
       "    <tr>\n",
       "      <th>2014-15</th>\n",
       "      <td>25.260870</td>\n",
       "    </tr>\n",
       "    <tr>\n",
       "      <th>2015-16</th>\n",
       "      <td>25.263158</td>\n",
       "    </tr>\n",
       "    <tr>\n",
       "      <th>2016-17</th>\n",
       "      <td>26.405405</td>\n",
       "    </tr>\n",
       "    <tr>\n",
       "      <th>2017-18</th>\n",
       "      <td>27.451220</td>\n",
       "    </tr>\n",
       "    <tr>\n",
       "      <th>2018-19</th>\n",
       "      <td>27.363636</td>\n",
       "    </tr>\n",
       "    <tr>\n",
       "      <th>2019-20</th>\n",
       "      <td>25.343284</td>\n",
       "    </tr>\n",
       "    <tr>\n",
       "      <th>2020-21</th>\n",
       "      <td>25.022222</td>\n",
       "    </tr>\n",
       "    <tr>\n",
       "      <th>2021-22</th>\n",
       "      <td>30.267857</td>\n",
       "    </tr>\n",
       "    <tr>\n",
       "      <th>2022-23</th>\n",
       "      <td>28.909091</td>\n",
       "    </tr>\n",
       "    <tr>\n",
       "      <th>2023-24</th>\n",
       "      <td>25.661972</td>\n",
       "    </tr>\n",
       "  </tbody>\n",
       "</table>\n",
       "</div>"
      ],
      "text/plain": [
       "                 PPG\n",
       "SEASON_ID           \n",
       "2003-04    20.936709\n",
       "2004-05    27.187500\n",
       "2005-06    31.367089\n",
       "2006-07    27.333333\n",
       "2007-08    30.000000\n",
       "2008-09    28.444444\n",
       "2009-10    29.710526\n",
       "2010-11    26.721519\n",
       "2011-12    27.145161\n",
       "2012-13    26.789474\n",
       "2013-14    27.129870\n",
       "2014-15    25.260870\n",
       "2015-16    25.263158\n",
       "2016-17    26.405405\n",
       "2017-18    27.451220\n",
       "2018-19    27.363636\n",
       "2019-20    25.343284\n",
       "2020-21    25.022222\n",
       "2021-22    30.267857\n",
       "2022-23    28.909091\n",
       "2023-24    25.661972"
      ]
     },
     "execution_count": 84,
     "metadata": {},
     "output_type": "execute_result"
    }
   ],
   "source": [
    "ppgBySeason(lebron['id'])"
   ]
  },
  {
   "cell_type": "code",
   "execution_count": null,
   "id": "4df1f042-b665-4bb7-8d0b-9e4936e87f4e",
   "metadata": {},
   "outputs": [],
   "source": []
  }
 ],
 "metadata": {
  "kernelspec": {
   "display_name": "Python 3 (ipykernel)",
   "language": "python",
   "name": "python3"
  },
  "language_info": {
   "codemirror_mode": {
    "name": "ipython",
    "version": 3
   },
   "file_extension": ".py",
   "mimetype": "text/x-python",
   "name": "python",
   "nbconvert_exporter": "python",
   "pygments_lexer": "ipython3",
   "version": "3.12.7"
  }
 },
 "nbformat": 4,
 "nbformat_minor": 5
}
