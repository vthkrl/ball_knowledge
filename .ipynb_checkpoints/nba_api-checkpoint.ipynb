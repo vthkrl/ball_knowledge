{
 "cells": [
  {
   "cell_type": "code",
   "execution_count": 1,
   "id": "acac8612-860a-4af5-b61f-c1d32aa7a9eb",
   "metadata": {},
   "outputs": [],
   "source": [
    "from nba_api.live.nba.endpoints import playbyplay\n",
    "from flask import jsonify\n",
    "import pandas as pd"
   ]
  },
  {
   "cell_type": "code",
   "execution_count": 2,
   "id": "cebb33f5-7e66-4d63-90f6-704b520e260e",
   "metadata": {},
   "outputs": [],
   "source": [
    "pd.set_option('display.max_rows', 250)"
   ]
  },
  {
   "cell_type": "code",
   "execution_count": 5,
   "id": "45ed91f1-8e0a-4254-8170-fa513035d9fd",
   "metadata": {},
   "outputs": [
    {
     "name": "stdout",
     "output_type": "stream",
     "text": [
      "Index(['actionNumber', 'clock', 'timeActual', 'period', 'periodType',\n",
      "       'actionType', 'subType', 'qualifiers', 'personId', 'x', 'y',\n",
      "       'possession', 'scoreHome', 'scoreAway', 'edited', 'orderNumber',\n",
      "       'isTargetScoreLastPeriod', 'xLegacy', 'yLegacy', 'isFieldGoal', 'side',\n",
      "       'description', 'personIdsFilter', 'teamId', 'teamTricode', 'descriptor',\n",
      "       'jumpBallRecoveredName', 'jumpBallRecoverdPersonId', 'playerName',\n",
      "       'playerNameI', 'jumpBallWonPlayerName', 'jumpBallWonPersonId',\n",
      "       'jumpBallLostPlayerName', 'jumpBallLostPersonId', 'area', 'areaDetail',\n",
      "       'shotDistance', 'shotResult', 'shotActionNumber', 'reboundTotal',\n",
      "       'reboundDefensiveTotal', 'reboundOffensiveTotal', 'pointsTotal',\n",
      "       'officialId', 'foulPersonalTotal', 'foulTechnicalTotal',\n",
      "       'foulDrawnPlayerName', 'foulDrawnPersonId', 'assistPlayerNameInitial',\n",
      "       'assistPersonId', 'assistTotal', 'blockPlayerName', 'blockPersonId',\n",
      "       'turnoverTotal', 'stealPlayerName', 'stealPersonId'],\n",
      "      dtype='object')\n"
     ]
    }
   ],
   "source": [
    "game = playbyplay.PlayByPlay(game_id='0022400611').get_dict()\n",
    "df = pd.DataFrame(game['game']['actions'])\n",
    "\n",
    "print(df.columns)"
   ]
  },
  {
   "cell_type": "code",
   "execution_count": null,
   "id": "e6359f55-af05-4b53-9001-12d9e17d7dfb",
   "metadata": {},
   "outputs": [],
   "source": []
  }
 ],
 "metadata": {
  "kernelspec": {
   "display_name": "Python 3 (ipykernel)",
   "language": "python",
   "name": "python3"
  },
  "language_info": {
   "codemirror_mode": {
    "name": "ipython",
    "version": 3
   },
   "file_extension": ".py",
   "mimetype": "text/x-python",
   "name": "python",
   "nbconvert_exporter": "python",
   "pygments_lexer": "ipython3",
   "version": "3.12.3"
  }
 },
 "nbformat": 4,
 "nbformat_minor": 5
}
